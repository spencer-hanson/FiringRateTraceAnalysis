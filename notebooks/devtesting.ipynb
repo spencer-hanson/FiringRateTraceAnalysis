{
 "cells": [
  {
   "cell_type": "code",
   "execution_count": 458,
   "id": "b170c6ae-c995-43d9-b54c-6c4c8270cbdc",
   "metadata": {},
   "outputs": [],
   "source": [
    "import os\n",
    "import sys\n",
    "sys.path.append(\"../src\")\n",
    "import h5py\n",
    "import numpy as np\n",
    "import numpy.ma as ma\n",
    "import matplotlib.pyplot as plt\n",
    "from population_analysis.consts import TOTAL_TRIAL_MS, PRE_TRIAL_MS, POST_TRIAL_MS\n",
    "from population_analysis.population.units import UnitPopulation\n",
    "from population_analysis.consts import TOTAL_TRIAL_MS, SPIKE_BIN_MS"
   ]
  },
  {
   "cell_type": "code",
   "execution_count": 6,
   "id": "9f14aa57-4277-4e8e-858e-83d105966975",
   "metadata": {},
   "outputs": [],
   "source": [
    "def _extract_timestamp_idxs(spike_timestamps, other_timestamps) -> list[[float, float, float]]:\n",
    "    # return indices into spike_timestamps within a window of -200ms to +700ms for trials times in other_timestamps\n",
    "    idx_ranges = []\n",
    "\n",
    "    other_len = len(other_timestamps)\n",
    "    other_one_tenth = int(1/10 * other_len)\n",
    "    for idx, ts in enumerate(other_timestamps):\n",
    "        if idx % other_one_tenth == 0:\n",
    "            print(f\" {round(100*(idx / other_len), 3)}%\", end=\"\")\n",
    "        if np.isnan(ts):\n",
    "            # idx_ranges.append(None)\n",
    "            continue\n",
    "        start_idx = np.where(ts - (PRE_TRIAL_MS/1000) < spike_timestamps)[0][0]  # First index in tuple, first index is the edge\n",
    "        end_idx = np.where(ts + (POST_TRIAL_MS/1000) <= spike_timestamps)[0][0]\n",
    "        ts_idx = np.where(ts >= spike_timestamps)[0][-1]  # Index of the event timestamp itself, next smallest value\n",
    "        idx_ranges.append([start_idx, ts_idx, end_idx])\n",
    "    print(\"\")\n",
    "    return idx_ranges\n",
    "\n",
    "\n",
    "def _remove_by_idxs(lst: list, idxs: list[int]) -> list:\n",
    "    # Filter out a list by indexes to not include\n",
    "    l2 = []\n",
    "    for idx, l in enumerate(lst):\n",
    "        if idx in idxs:\n",
    "            continue\n",
    "        else:\n",
    "            l2.append(l)\n",
    "    return l2\n",
    "\n",
    "\n",
    "def _demix_trials(saccade_idxs: list[list[float]], probe_idxs: list[list[float]]):\n",
    "    # If a saccade and probe trial occur within +- .5 sec (500ms) then they should be considered a mixed trial\n",
    "    trials = {\n",
    "        \"saccade\": [],\n",
    "        \"probe\": [],\n",
    "        \"mixed\": []\n",
    "    }\n",
    "\n",
    "    # Find probes that occur within 500ms of a saccade, remove them from the list of possible\n",
    "    # saccades/probes after finding them\n",
    "    def within_window(list1, list2, label1, label2):  # Find events within eachothers bounds\n",
    "        mixed = []\n",
    "        l1_to_remove = []\n",
    "        l2_to_remove = []\n",
    "\n",
    "        for f_idx, first_idx in enumerate(list1):\n",
    "            f_start = first_idx[0]  # first start\n",
    "            f_end = first_idx[2]\n",
    "\n",
    "            for s_idx, second_idx in enumerate(list2):\n",
    "                s_event = second_idx[1]  # second event time idx\n",
    "                if f_start <= s_event <= f_end:  # Found mixed\n",
    "                    mixed.append({\n",
    "                        label1: first_idx,\n",
    "                        label2: second_idx\n",
    "                    })\n",
    "                    l2_to_remove.append(s_idx)\n",
    "                    l1_to_remove.append(f_idx)\n",
    "                    break\n",
    "            list2 = _remove_by_idxs(list2, l2_to_remove)\n",
    "            l2_to_remove = []\n",
    "        list1 = _remove_by_idxs(list1, l1_to_remove)\n",
    "        return [list1, list2, mixed]\n",
    "\n",
    "    # Find saccades that occur within 500ms of a probe\n",
    "    print(\"Demixing saccades within 500ms from a probe\")\n",
    "    saccade_idxs, probe_idxs, both = within_window(saccade_idxs, probe_idxs, \"saccade\", \"probe\")\n",
    "\n",
    "    # Find probes that occur within 500ms of a saccade\n",
    "    print(\"Demixing probes within 500ms of a saccade\")\n",
    "    probe_idxs, saccade_idxs, both2 = within_window(probe_idxs, saccade_idxs, \"probe\", \"saccade\")\n",
    "\n",
    "    trials[\"saccade\"] = saccade_idxs\n",
    "    trials[\"probe\"] = probe_idxs\n",
    "    trials[\"mixed\"] = [*both, *both2]\n",
    "\n",
    "    return trials\n",
    "\n"
   ]
  },
  {
   "cell_type": "code",
   "execution_count": 7,
   "id": "cce60963-20b5-4e6d-8be4-1466b3e96c00",
   "metadata": {},
   "outputs": [],
   "source": [
    "filename = 'E:\\\\PopulationAnalysis\\\\2023-05-16\\\\mlati7\\\\output.hdf'"
   ]
  },
  {
   "cell_type": "code",
   "execution_count": 8,
   "id": "fcc94dc8-e83d-471e-b707-8e9ce6efbc23",
   "metadata": {},
   "outputs": [],
   "source": [
    "data = h5py.File(filename)\n",
    "spike_clusters = np.array(data[\"spikes\"][\"clusters\"])\n",
    "spike_timestamps = np.array(data[\"spikes\"][\"timestamps\"])\n",
    "probe_timestamps = np.array(data[\"stimuli\"][\"dg\"][\"probe\"][\"timestamps\"])\n",
    "saccade_timestamps = np.array(data[\"saccades\"][\"predicted\"][\"left\"][\"nasal\"][\"timestamps\"])"
   ]
  },
  {
   "cell_type": "code",
   "execution_count": 9,
   "id": "0fd6854e-6217-4ee3-90ea-ab1a218d95eb",
   "metadata": {},
   "outputs": [
    {
     "name": "stdout",
     "output_type": "stream",
     "text": [
      "Extracting saccade spike timestamps..\n",
      " 0.0% 9.962% 19.924% 29.886% 39.848% 49.81% 59.772% 69.734% 79.696% 89.658% 99.62%\n",
      "Extracting probe spike timestamps..\n",
      " 0.0% 9.995% 19.991% 29.986% 39.981% 49.977% 59.972% 69.967% 79.963% 89.958% 99.953%\n",
      "Demixing saccades within 500ms from a probe\n",
      "Demixing probes within 500ms of a saccade\n"
     ]
    }
   ],
   "source": [
    "unit_pop = UnitPopulation(spike_timestamps, spike_clusters)\n",
    "\n",
    "print(\"Extracting saccade spike timestamps..\")\n",
    "saccade_spike_range_idxs = _extract_timestamp_idxs(spike_timestamps, saccade_timestamps)\n",
    "print(\"Extracting probe spike timestamps..\")\n",
    "probe_spike_range_idxs = _extract_timestamp_idxs(spike_timestamps, probe_timestamps)\n",
    "\n"
   ]
  },
  {
   "cell_type": "code",
   "execution_count": 410,
   "id": "f6ada33d-29fd-4b8a-bd9d-d61b95ed03ca",
   "metadata": {},
   "outputs": [
    {
     "name": "stdout",
     "output_type": "stream",
     "text": [
      "Demixing saccades within 500ms from a probe\n",
      "Demixing probes within 500ms of a saccade\n"
     ]
    }
   ],
   "source": [
    "trials = _demix_trials(saccade_spike_range_idxs, probe_spike_range_idxs)\n",
    "\n",
    "unit_pop.add_probe_trials(trials[\"probe\"])\n",
    "unit_pop.add_saccade_trials(trials[\"saccade\"])\n",
    "unit_pop.add_mixed_trials(trials[\"mixed\"])"
   ]
  },
  {
   "cell_type": "code",
   "execution_count": 425,
   "id": "ee53456a-dfdb-493e-ada7-fa803ce3c953",
   "metadata": {},
   "outputs": [],
   "source": [
    "# Calculate the firing rate of each unit for all trials\n",
    "self = unit_pop\n",
    "\n",
    "# for trial in self._trials:\n",
    "trial = self._trials[1]\n",
    "\n",
    "trial_spike_times = self.spike_timestamps[trial.start:trial.end]\n",
    "trial_start = self.spike_timestamps[trial.start]\n",
    "trial_end = self.spike_timestamps[trial.end]\n",
    "trial_spike_clusters = self.spike_clusters[trial.start:trial.end]\n"
   ]
  },
  {
   "cell_type": "code",
   "execution_count": 426,
   "id": "db609b20-eff3-4a60-bb09-afafe0318739",
   "metadata": {},
   "outputs": [],
   "source": [
    "bins = np.arange(trial_start, self.spike_timestamps[trial.end], SPIKE_BIN_MS/1000)\n",
    "digs = np.digitize(trial_spike_times, bins)\n",
    "firingrate = np.unique(digs, return_counts=True)[1] / SPIKE_BIN_MS\n",
    "\n",
    "unique_units = np.unique(trial_spike_clusters)"
   ]
  },
  {
   "cell_type": "code",
   "execution_count": 413,
   "id": "f9b844d8-c427-4be5-92f6-6f34518452fc",
   "metadata": {},
   "outputs": [
    {
     "data": {
      "text/plain": [
       "array([  5,   8,  11,  18,  32,  39,  44,  55,  57,  61,  63,  75,  78,\n",
       "        82,  96, 116, 121, 127, 136, 138, 151, 155, 163, 164, 165, 166,\n",
       "       176, 182, 210, 230, 237, 238, 240, 248, 251, 260, 264, 267, 281,\n",
       "       286, 288, 293, 297, 305, 311, 313, 324, 326, 333, 341, 345, 352,\n",
       "       355, 359, 365, 367, 368, 369, 371, 372, 373, 396, 399, 408, 410,\n",
       "       413, 414, 416, 417, 418, 421, 422, 424, 429, 431, 432, 433, 434,\n",
       "       438, 450, 451, 452, 453, 455, 456, 457, 464, 465, 467, 469, 474,\n",
       "       482, 494, 500, 508, 510, 516, 530, 531, 534, 541, 545, 547, 549,\n",
       "       555, 564, 565, 569, 580, 586], dtype=uint32)"
      ]
     },
     "execution_count": 413,
     "metadata": {},
     "output_type": "execute_result"
    }
   ],
   "source": [
    "unique_units"
   ]
  },
  {
   "cell_type": "code",
   "execution_count": 414,
   "id": "5ec08fb2-ea2f-4b22-aab0-d96efb58dafd",
   "metadata": {},
   "outputs": [],
   "source": [
    "\n",
    "trial_len = trial_spike_times[0] - trial_spike_times[-1]"
   ]
  },
  {
   "cell_type": "code",
   "execution_count": 415,
   "id": "092f3b9a-3d39-4ff5-9735-e1cd7b00cc4c",
   "metadata": {},
   "outputs": [
    {
     "data": {
      "text/plain": [
       "-3.4849999999983083"
      ]
     },
     "execution_count": 415,
     "metadata": {},
     "output_type": "execute_result"
    }
   ],
   "source": [
    "trial_len / .2"
   ]
  },
  {
   "cell_type": "code",
   "execution_count": 416,
   "id": "a167cfad-7c77-4d23-bc64-809dd951d61a",
   "metadata": {},
   "outputs": [
    {
     "data": {
      "text/plain": [
       "(110, 397)"
      ]
     },
     "execution_count": 416,
     "metadata": {},
     "output_type": "execute_result"
    }
   ],
   "source": [
    "len(unique_units),len(trial_spike_clusters)"
   ]
  },
  {
   "cell_type": "code",
   "execution_count": 450,
   "id": "66feafe7-42bf-4381-ad52-fc6710ad44e3",
   "metadata": {},
   "outputs": [],
   "source": [
    "all_units_mask = np.broadcast_to(trial_spike_clusters[:,None].T, (len(unique_units), len(trial_spike_clusters)))"
   ]
  },
  {
   "cell_type": "code",
   "execution_count": 451,
   "id": "6db9c72f-44d6-4b69-9430-9655fe7ace56",
   "metadata": {},
   "outputs": [],
   "source": [
    "all_units_mask = all_units_mask == unique_units[:,None]  # Mask on trial for each unique value"
   ]
  },
  {
   "cell_type": "code",
   "execution_count": 452,
   "id": "117019f6-e430-45da-a3e4-6d328f57f68b",
   "metadata": {},
   "outputs": [],
   "source": [
    "unmasked_spike_times = np.broadcast_to(trial_spike_times, (len(unique_units), *trial_spike_times.shape))"
   ]
  },
  {
   "cell_type": "code",
   "execution_count": 453,
   "id": "7d56b70c-4de7-451f-8ce1-508db2dc24e2",
   "metadata": {},
   "outputs": [],
   "source": [
    "unit_spike_times = ma.array(unmasked_spike_times, mask=~all_units_mask)"
   ]
  },
  {
   "cell_type": "code",
   "execution_count": 454,
   "id": "8873ea23-97af-4cac-9bcc-247e8d4bff03",
   "metadata": {},
   "outputs": [
    {
     "data": {
      "text/plain": [
       "array([3471.861, 3471.876, 3471.891, 3471.899, 3471.91 , 3471.915,\n",
       "       3471.932, 3471.953, 3471.971, 3471.979, 3471.989, 3472.004,\n",
       "       3472.036, 3472.05 , 3472.058, 3472.083, 3472.09 , 3472.098,\n",
       "       3472.113, 3472.121, 3472.152, 3472.173, 3472.18 , 3472.195,\n",
       "       3472.218, 3472.23 , 3472.237, 3472.246, 3472.255, 3472.266,\n",
       "       3472.273, 3472.28 , 3472.288, 3472.297, 3472.304, 3472.31 ,\n",
       "       3472.328, 3472.34 , 3472.353, 3472.38 , 3472.395, 3472.402,\n",
       "       3472.44 , 3472.447, 3472.462, 3472.473, 3472.482, 3472.495,\n",
       "       3472.523, 3472.537, 3472.545])"
      ]
     },
     "execution_count": 454,
     "metadata": {},
     "output_type": "execute_result"
    }
   ],
   "source": [
    "unit_spike_times[2].compressed()"
   ]
  },
  {
   "cell_type": "code",
   "execution_count": 455,
   "id": "a50c3af5-aaa0-4004-a986-b83aa0c98c53",
   "metadata": {},
   "outputs": [],
   "source": [
    "l = np.histogram(unit_spike_times[2].compressed(), bins=bins, density=False)"
   ]
  },
  {
   "cell_type": "code",
   "execution_count": 459,
   "id": "0de8f11e-defd-4d28-b2eb-b289e9410c99",
   "metadata": {},
   "outputs": [
    {
     "data": {
      "text/plain": [
       "array([0.1 , 0.05, 0.15, 0.05, 0.05, 0.05, 0.1 , 0.05, 0.05, 0.05, 0.05,\n",
       "       0.1 , 0.1 , 0.05, 0.05, 0.05, 0.1 , 0.  , 0.15, 0.1 , 0.1 , 0.15,\n",
       "       0.1 , 0.05, 0.1 , 0.  , 0.1 , 0.05, 0.  , 0.1 , 0.1 , 0.1 , 0.  ,\n",
       "       0.1 ])"
      ]
     },
     "execution_count": 459,
     "metadata": {},
     "output_type": "execute_result"
    }
   ],
   "source": [
    "l[0]/SPIKE_BIN_MS"
   ]
  },
  {
   "cell_type": "code",
   "execution_count": 457,
   "id": "8d117128-fc73-478d-baf6-75aaa9220d6b",
   "metadata": {},
   "outputs": [
    {
     "data": {
      "text/plain": [
       "[<matplotlib.lines.Line2D at 0x214f4eb08e0>]"
      ]
     },
     "execution_count": 457,
     "metadata": {},
     "output_type": "execute_result"
    },
    {
     "data": {
      "image/png": "[encoded data removed]",
      "text/plain": [
       "<Figure size 640x480 with 1 Axes>"
      ]
     },
     "metadata": {},
     "output_type": "display_data"
    }
   ],
   "source": [
    "plt.plot(l[0]/SPIKE_BIN_MS)"
   ]
  },
  {
   "cell_type": "code",
   "execution_count": null,
   "id": "e4ce2c4a-614f-4527-adc4-b2791c8700a9",
   "metadata": {},
   "outputs": [],
   "source": []
  }
 ],
 "metadata": {
  "kernelspec": {
   "display_name": "Python 3 (ipykernel)",
   "language": "python",
   "name": "python3"
  },
  "language_info": {
   "codemirror_mode": {
    "name": "ipython",
    "version": 3
   },
   "file_extension": ".py",
   "mimetype": "text/x-python",
   "name": "python",
   "nbconvert_exporter": "python",
   "pygments_lexer": "ipython3",
   "version": "3.9.10"
  }
 },
 "nbformat": 4,
 "nbformat_minor": 5
}
