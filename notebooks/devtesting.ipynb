{
 "cells": [
  {
   "cell_type": "code",
   "execution_count": 1,
   "id": "3b407806-10bb-43d6-bd56-8d352b88764c",
   "metadata": {},
   "outputs": [],
   "source": [
    "import sys\n",
    "sys.path.append(\"../src\")"
   ]
  },
  {
   "cell_type": "code",
   "execution_count": 2,
   "id": "b170c6ae-c995-43d9-b54c-6c4c8270cbdc",
   "metadata": {},
   "outputs": [],
   "source": [
    "import os\n",
    "\n",
    "import h5py\n",
    "import numpy as np\n",
    "import numpy.ma as ma\n",
    "import matplotlib.pyplot as plt\n",
    "from population_analysis.consts import TOTAL_TRIAL_MS, PRE_TRIAL_MS, POST_TRIAL_MS\n",
    "from population_analysis.population.units import UnitPopulation\n",
    "from population_analysis.consts import TOTAL_TRIAL_MS, SPIKE_BIN_MS, NUM_FIRINGRATE_SAMPLES"
   ]
  },
  {
   "cell_type": "code",
   "execution_count": 3,
   "id": "9f14aa57-4277-4e8e-858e-83d105966975",
   "metadata": {},
   "outputs": [],
   "source": [
    "def _extract_timestamp_idxs(spike_timestamps, other_timestamps) -> list[[float, float, float]]:\n",
    "    # return indices into spike_timestamps within a window of -200ms to +700ms for trials times in other_timestamps\n",
    "    idx_ranges = []\n",
    "\n",
    "    other_len = len(other_timestamps)\n",
    "    other_one_tenth = int(1/10 * other_len)\n",
    "    for idx, ts in enumerate(other_timestamps):\n",
    "        if idx % other_one_tenth == 0:\n",
    "            print(f\" {round(100*(idx / other_len), 3)}%\", end=\"\")\n",
    "        if np.isnan(ts):\n",
    "            # idx_ranges.append(None)\n",
    "            continue\n",
    "        start_idx = np.where(ts - (PRE_TRIAL_MS/1000) < spike_timestamps)[0][0]  # First index in tuple, first index is the edge\n",
    "        end_idx = np.where(ts + (POST_TRIAL_MS/1000) <= spike_timestamps)[0][0]\n",
    "        ts_idx = np.where(ts >= spike_timestamps)[0][-1]  # Index of the event timestamp itself, next smallest value\n",
    "        idx_ranges.append([start_idx, ts_idx, end_idx])\n",
    "    print(\"\")\n",
    "    return idx_ranges\n",
    "\n",
    "\n",
    "def _remove_by_idxs(lst: list, idxs: list[int]) -> list:\n",
    "    # Filter out a list by indexes to not include\n",
    "    l2 = []\n",
    "    for idx, l in enumerate(lst):\n",
    "        if idx in idxs:\n",
    "            continue\n",
    "        else:\n",
    "            l2.append(l)\n",
    "    return l2\n",
    "\n",
    "\n",
    "def _demix_trials(saccade_idxs: list[list[float]], probe_idxs: list[list[float]]):\n",
    "    # If a saccade and probe trial occur within +- .5 sec (500ms) then they should be considered a mixed trial\n",
    "    trials = {\n",
    "        \"saccade\": [],\n",
    "        \"probe\": [],\n",
    "        \"mixed\": []\n",
    "    }\n",
    "\n",
    "    # Find probes that occur within 500ms of a saccade, remove them from the list of possible\n",
    "    # saccades/probes after finding them\n",
    "    def within_window(list1, list2, label1, label2):  # Find events within eachothers bounds\n",
    "        mixed = []\n",
    "        l1_to_remove = []\n",
    "        l2_to_remove = []\n",
    "\n",
    "        for f_idx, first_idx in enumerate(list1):\n",
    "            f_start = first_idx[0]  # first start\n",
    "            f_end = first_idx[2]\n",
    "\n",
    "            for s_idx, second_idx in enumerate(list2):\n",
    "                s_event = second_idx[1]  # second event time idx\n",
    "                if f_start <= s_event <= f_end:  # Found mixed\n",
    "                    mixed.append({\n",
    "                        label1: first_idx,\n",
    "                        label2: second_idx\n",
    "                    })\n",
    "                    l2_to_remove.append(s_idx)\n",
    "                    l1_to_remove.append(f_idx)\n",
    "                    break\n",
    "            list2 = _remove_by_idxs(list2, l2_to_remove)\n",
    "            l2_to_remove = []\n",
    "        list1 = _remove_by_idxs(list1, l1_to_remove)\n",
    "        return [list1, list2, mixed]\n",
    "\n",
    "    # Find saccades that occur within 500ms of a probe\n",
    "    print(\"Demixing saccades within 500ms from a probe\")\n",
    "    saccade_idxs, probe_idxs, both = within_window(saccade_idxs, probe_idxs, \"saccade\", \"probe\")\n",
    "\n",
    "    # Find probes that occur within 500ms of a saccade\n",
    "    print(\"Demixing probes within 500ms of a saccade\")\n",
    "    probe_idxs, saccade_idxs, both2 = within_window(probe_idxs, saccade_idxs, \"probe\", \"saccade\")\n",
    "\n",
    "    trials[\"saccade\"] = saccade_idxs\n",
    "    trials[\"probe\"] = probe_idxs\n",
    "    trials[\"mixed\"] = [*both, *both2]\n",
    "\n",
    "    return trials\n",
    "\n"
   ]
  },
  {
   "cell_type": "code",
   "execution_count": 4,
   "id": "cce60963-20b5-4e6d-8be4-1466b3e96c00",
   "metadata": {},
   "outputs": [],
   "source": [
    "filename = 'E:\\\\PopulationAnalysis\\\\2023-05-16\\\\mlati7\\\\output.hdf'"
   ]
  },
  {
   "cell_type": "code",
   "execution_count": 5,
   "id": "fcc94dc8-e83d-471e-b707-8e9ce6efbc23",
   "metadata": {},
   "outputs": [],
   "source": [
    "data = h5py.File(filename)\n",
    "spike_clusters = np.array(data[\"spikes\"][\"clusters\"])\n",
    "spike_timestamps = np.array(data[\"spikes\"][\"timestamps\"])\n",
    "probe_timestamps = np.array(data[\"stimuli\"][\"dg\"][\"probe\"][\"timestamps\"])\n",
    "saccade_timestamps = np.array(data[\"saccades\"][\"predicted\"][\"left\"][\"nasal\"][\"timestamps\"])"
   ]
  },
  {
   "cell_type": "code",
   "execution_count": 133,
   "id": "ceb12632-51ae-4c81-88da-0decd0917757",
   "metadata": {},
   "outputs": [
    {
     "data": {
      "text/plain": [
       "0.853"
      ]
     },
     "execution_count": 133,
     "metadata": {},
     "output_type": "execute_result"
    }
   ],
   "source": [
    "idxs = np.where(spike_clusters == 5)\n",
    "spike_timestamps[idxs][0]"
   ]
  },
  {
   "cell_type": "code",
   "execution_count": 44,
   "id": "0fd6854e-6217-4ee3-90ea-ab1a218d95eb",
   "metadata": {},
   "outputs": [
    {
     "name": "stdout",
     "output_type": "stream",
     "text": [
      "Extracting saccade spike timestamps..\n",
      " 0.0% 9.962% 19.924% 29.886% 39.848% 49.81% 59.772% 69.734% 79.696% 89.658% 99.62%\n",
      "Extracting probe spike timestamps..\n",
      " 0.0% 9.995% 19.991% 29.986% 39.981% 49.977% 59.972% 69.967% 79.963% 89.958% 99.953%\n"
     ]
    }
   ],
   "source": [
    "unit_pop = UnitPopulation(spike_timestamps, spike_clusters)\n",
    "\n",
    "print(\"Extracting saccade spike timestamps..\")\n",
    "saccade_spike_range_idxs = _extract_timestamp_idxs(spike_timestamps, saccade_timestamps)\n",
    "print(\"Extracting probe spike timestamps..\")\n",
    "probe_spike_range_idxs = _extract_timestamp_idxs(spike_timestamps, probe_timestamps)\n",
    "\n"
   ]
  },
  {
   "cell_type": "code",
   "execution_count": 45,
   "id": "f6ada33d-29fd-4b8a-bd9d-d61b95ed03ca",
   "metadata": {},
   "outputs": [
    {
     "name": "stdout",
     "output_type": "stream",
     "text": [
      "Demixing saccades within 500ms from a probe\n",
      "Demixing probes within 500ms of a saccade\n"
     ]
    }
   ],
   "source": [
    "trials = _demix_trials(saccade_spike_range_idxs, probe_spike_range_idxs)\n",
    "\n",
    "unit_pop.add_probe_trials(trials[\"probe\"])\n",
    "unit_pop.add_saccade_trials(trials[\"saccade\"])\n",
    "unit_pop.add_mixed_trials(trials[\"mixed\"])"
   ]
  },
  {
   "cell_type": "code",
   "execution_count": 46,
   "id": "ee53456a-dfdb-493e-ada7-fa803ce3c953",
   "metadata": {},
   "outputs": [
    {
     "name": "stdout",
     "output_type": "stream",
     "text": [
      "Working on trial 1\n"
     ]
    }
   ],
   "source": [
    "# Calculate the firing rate of each unit for all trials\n",
    "self = unit_pop\n",
    "\n",
    "firing_rates = np.zeros((len(self._trials), self.num_units, NUM_FIRINGRATE_SAMPLES))\n",
    "        \n",
    "#for trial_idx, trial in enumerate(self._trials):\n",
    "trial_idx = 1\n",
    "trial = self._trials[1]\n",
    "print(f\"Working on trial {trial_idx}\")\n",
    "trial_spike_times = self.spike_timestamps[trial.start:trial.end]\n",
    "trial_start = self.spike_timestamps[trial.start]\n",
    "# Make sure that the length of the trial is at least 700ms\n",
    "trial_end = max(self.spike_timestamps[trial.end], trial_start + TOTAL_TRIAL_MS/1000)\n",
    "trial_spike_clusters = self.spike_clusters[trial.start:trial.end]\n",
    "\n",
    "unique_units = np.unique(trial_spike_clusters)\n",
    "\n",
    "all_units_mask = np.broadcast_to(trial_spike_clusters[:, None].T,\n",
    "                                 (len(unique_units), len(trial_spike_clusters)))\n",
    "all_units_mask = all_units_mask == unique_units[:, None]  # Mask on trial for each unique value\n",
    "\n",
    "unmasked_spike_times = np.broadcast_to(trial_spike_times, (len(unique_units), *trial_spike_times.shape))\n",
    "# Mask out the times where the spike time doesn't belong to each spike\n",
    "unique_unit_spike_times = ma.array(unmasked_spike_times, mask=~all_units_mask)\n",
    "\n",
    "# Get the spike timings of unit 2, 'compressed' removed masked values\n",
    "# unit_spike_times[2].compressed()\n",
    "\n",
    "bins = np.arange(trial_start, trial_end + SPIKE_BIN_MS/1000, SPIKE_BIN_MS / 1000)\n",
    "bins = bins[:NUM_FIRINGRATE_SAMPLES + 1]  # Ensure that there are only 35 bins\n",
    "\n"
   ]
  },
  {
   "cell_type": "code",
   "execution_count": 49,
   "id": "253b2d89-609d-412a-8413-d36bc45a960e",
   "metadata": {},
   "outputs": [],
   "source": [
    "self.unique_spike_clusters = np.unique(self.spike_clusters)"
   ]
  },
  {
   "cell_type": "code",
   "execution_count": 57,
   "id": "83d85180-99db-4bd5-a4ac-b71a7fb96fa7",
   "metadata": {},
   "outputs": [],
   "source": [
    "idx = 88\n",
    "v = np.where(self.unique_spike_clusters == unique_units[idx])"
   ]
  },
  {
   "cell_type": "code",
   "execution_count": 58,
   "id": "d41eb560-9216-4408-9841-f18bc03b8945",
   "metadata": {},
   "outputs": [
    {
     "data": {
      "text/plain": [
       "(467, 467)"
      ]
     },
     "execution_count": 58,
     "metadata": {},
     "output_type": "execute_result"
    }
   ],
   "source": [
    "unique_units[idx], self.unique_spike_clusters[]"
   ]
  },
  {
   "cell_type": "code",
   "execution_count": null,
   "id": "5cd652cb-b95f-4689-88b0-88106af4efd3",
   "metadata": {},
   "outputs": [],
   "source": [
    "unit_spike_times.shape, self.num_units, self.unique_spike_clusters.shape"
   ]
  },
  {
   "cell_type": "code",
   "execution_count": 82,
   "id": "6f87ed23-6826-4519-bfd9-cc4ef5cc86cf",
   "metadata": {},
   "outputs": [
    {
     "name": "stdout",
     "output_type": "stream",
     "text": [
      "Calculating firing rates for all units in trial 1 0.0% 10.0% 20.0% 30.0% 40.0% 50.0% 60.0% 70.0% 80.0% 90.0%\n"
     ]
    }
   ],
   "source": [
    "print(f\"Calculating firing rates for all units in trial {trial_idx}\", end=\"\")\n",
    "num_unique_units = len(unique_units)\n",
    "one_tenth_of_units = int(num_unique_units / 10)\n",
    "abs_unit_idxs = []\n",
    "for unique_unit_num in range(num_unique_units):\n",
    "    if unique_unit_num % one_tenth_of_units == 0:\n",
    "        print(f\" {round(100*(unique_unit_num / num_unique_units), 2)}%\", end=\"\")\n",
    "    single_unit_spike_times = unique_unit_spike_times[unique_unit_num]\n",
    "    #print(f\"\\n{single_unit_spike_times}\")\n",
    "    single_unit_spike_times = single_unit_spike_times.compressed()\n",
    "    single_unit_firing_rate = np.histogram(\n",
    "        single_unit_spike_times, bins=bins, density=False\n",
    "    )[0]/SPIKE_BIN_MS  # Normalize by bin size\n",
    "   # print(\"\")\n",
    "   # print(f\"Bins {len(bins)} Compr {len(unit_spike_times[unit_num].compressed())}\")\n",
    "   # print(f\"{single_unit_firing_rate.shape}\")\n",
    "    absolute_unit_idx = np.where(self.unique_spike_clusters == unique_units[unique_unit_num])[0][0]\n",
    "    abs_unit_idxs.append(absolute_unit_idx)\n",
    "    firing_rates[trial_idx, absolute_unit_idx, :] = single_unit_firing_rate[:]\n",
    "print(\"\")"
   ]
  },
  {
   "cell_type": "code",
   "execution_count": 100,
   "id": "8d117128-fc73-478d-baf6-75aaa9220d6b",
   "metadata": {},
   "outputs": [
    {
     "data": {
      "text/plain": [
       "[<matplotlib.lines.Line2D at 0x23968ca5850>]"
      ]
     },
     "execution_count": 100,
     "metadata": {},
     "output_type": "execute_result"
    },
    {
     "data": {
      "image/png": "[encoded data removed]",
      "text/plain": [
       "<Figure size 640x480 with 1 Axes>"
      ]
     },
     "metadata": {},
     "output_type": "display_data"
    }
   ],
   "source": [
    "plt.plot(firing_rates[1, 9]/SPIKE_BIN_MS)"
   ]
  },
  {
   "cell_type": "code",
   "execution_count": 101,
   "id": "e4ce2c4a-614f-4527-adc4-b2791c8700a9",
   "metadata": {},
   "outputs": [
    {
     "ename": "AttributeError",
     "evalue": "'UnitPopulation' object has no attribute 'trials'",
     "output_type": "error",
     "traceback": [
      "\u001b[1;31m---------------------------------------------------------------------------\u001b[0m",
      "\u001b[1;31mAttributeError\u001b[0m                            Traceback (most recent call last)",
      "Cell \u001b[1;32mIn[101], line 1\u001b[0m\n\u001b[1;32m----> 1\u001b[0m \u001b[38;5;28;43mself\u001b[39;49m\u001b[38;5;241;43m.\u001b[39;49m\u001b[43mtrials\u001b[49m[\u001b[38;5;241m0\u001b[39m]\n",
      "\u001b[1;31mAttributeError\u001b[0m: 'UnitPopulation' object has no attribute 'trials'"
     ]
    }
   ],
   "source": [
    "self.trials[0]"
   ]
  },
  {
   "cell_type": "code",
   "execution_count": 107,
   "id": "b9178038-d475-4e6d-89a4-2cc99d8411f2",
   "metadata": {},
   "outputs": [],
   "source": [
    "trial_labels = [trial.trial_label for trial in self._trials]"
   ]
  },
  {
   "cell_type": "code",
   "execution_count": 118,
   "id": "09f0e9b7-fe06-4703-8138-3cadcd6edf3e",
   "metadata": {},
   "outputs": [],
   "source": [
    "mixed_idxs = np.where(np.array(trial_labels) == \"probe\")[0]"
   ]
  },
  {
   "cell_type": "code",
   "execution_count": 119,
   "id": "69e2f57d-bba3-4d93-aadd-4bd0945ba9ae",
   "metadata": {},
   "outputs": [
    {
     "data": {
      "text/plain": [
       "0"
      ]
     },
     "execution_count": 119,
     "metadata": {},
     "output_type": "execute_result"
    }
   ],
   "source": [
    "mixed_idxs[0]"
   ]
  },
  {
   "cell_type": "code",
   "execution_count": 115,
   "id": "20756e10-86db-41df-9032-de801b885b69",
   "metadata": {},
   "outputs": [],
   "source": [
    "tr = self._trials[mixed_idxs[0]]"
   ]
  },
  {
   "cell_type": "code",
   "execution_count": 117,
   "id": "c8db30a8-0980-4fb1-b928-5e6a525f873e",
   "metadata": {},
   "outputs": [
    {
     "data": {
      "text/plain": [
       "{'saccade_start': 1857363,\n",
       " 'saccade_event': 1857466,\n",
       " 'saccade_end': 1857731,\n",
       " 'probe_start': 1857419,\n",
       " 'probe_event': 1857524,\n",
       " 'probe_end': 1857847}"
      ]
     },
     "execution_count": 117,
     "metadata": {},
     "output_type": "execute_result"
    }
   ],
   "source": [
    "tr.events"
   ]
  },
  {
   "cell_type": "code",
   "execution_count": null,
   "id": "b508e98a-985e-445f-a131-d185f87f6f53",
   "metadata": {},
   "outputs": [],
   "source": []
  }
 ],
 "metadata": {
  "kernelspec": {
   "display_name": "Python 3 (ipykernel)",
   "language": "python",
   "name": "python3"
  },
  "language_info": {
   "codemirror_mode": {
    "name": "ipython",
    "version": 3
   },
   "file_extension": ".py",
   "mimetype": "text/x-python",
   "name": "python",
   "nbconvert_exporter": "python",
   "pygments_lexer": "ipython3",
   "version": "3.9.10"
  }
 },
 "nbformat": 4,
 "nbformat_minor": 5
}
